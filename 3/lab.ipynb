{
 "metadata": {
  "language_info": {
   "codemirror_mode": {
    "name": "ipython",
    "version": 3
   },
   "file_extension": ".py",
   "mimetype": "text/x-python",
   "name": "python",
   "nbconvert_exporter": "python",
   "pygments_lexer": "ipython3",
   "version": "3.9.2-final"
  },
  "orig_nbformat": 2,
  "kernelspec": {
   "name": "python392jvsc74a57bd0f26be4b7799e663753eda40702ee82a94efea8435be4c353413bc2368de79a1c",
   "display_name": "Python 3.9.2 64-bit"
  }
 },
 "nbformat": 4,
 "nbformat_minor": 2,
 "cells": [
  {
   "source": [
    "Вариант 14"
   ],
   "cell_type": "markdown",
   "metadata": {}
  },
  {
   "cell_type": "code",
   "execution_count": 1,
   "metadata": {},
   "outputs": [],
   "source": [
    "import matplotlib\n",
    "import matplotlib.pyplot as plt\n",
    "import numpy as np\n",
    "import pandas as pd\n",
    "\n",
    "from scipy.stats import sigmaclip, t\n",
    "from sklearn.impute import KNNImputer\n",
    "from sklearn.metrics import roc_auc_score, roc_curve\n",
    "from sklearn.model_selection import train_test_split, StratifiedKFold\n",
    "from sklearn.neighbors import KNeighborsClassifier\n",
    "from sklearn.preprocessing import OneHotEncoder, LabelEncoder, MinMaxScaler, StandardScaler\n",
    "from sklearn.tree import DecisionTreeClassifier\n",
    "\n",
    "import warnings\n",
    "warnings.filterwarnings(\"ignore\")\n",
    "\n",
    "\n",
    "%matplotlib inline\n",
    "matplotlib.style.use('ggplot')"
   ]
  },
  {
   "cell_type": "code",
   "execution_count": 2,
   "metadata": {},
   "outputs": [],
   "source": [
    "data_test = pd.read_csv('./test.csv')\n",
    "data_train = pd.read_csv('./train.csv')"
   ]
  },
  {
   "cell_type": "code",
   "execution_count": 3,
   "metadata": {},
   "outputs": [
    {
     "output_type": "execute_result",
     "data": {
      "text/plain": [
       "id                      0\n",
       "Gender                  0\n",
       "Age                     0\n",
       "Driving_License         0\n",
       "Region_Code             0\n",
       "Previously_Insured      0\n",
       "Vehicle_Age             0\n",
       "Vehicle_Damage          0\n",
       "Annual_Premium          0\n",
       "Policy_Sales_Channel    0\n",
       "Vintage                 0\n",
       "Response                0\n",
       "dtype: int64"
      ]
     },
     "metadata": {},
     "execution_count": 3
    }
   ],
   "source": [
    "data_train.isna().sum()"
   ]
  },
  {
   "cell_type": "code",
   "execution_count": 4,
   "metadata": {},
   "outputs": [
    {
     "output_type": "execute_result",
     "data": {
      "text/plain": [
       "id                      0\n",
       "Gender                  0\n",
       "Age                     0\n",
       "Driving_License         0\n",
       "Region_Code             0\n",
       "Previously_Insured      0\n",
       "Vehicle_Age             0\n",
       "Vehicle_Damage          0\n",
       "Annual_Premium          0\n",
       "Policy_Sales_Channel    0\n",
       "Vintage                 0\n",
       "dtype: int64"
      ]
     },
     "metadata": {},
     "execution_count": 4
    }
   ],
   "source": [
    "data_test.isna().sum()"
   ]
  },
  {
   "cell_type": "code",
   "execution_count": 5,
   "metadata": {},
   "outputs": [
    {
     "output_type": "execute_result",
     "data": {
      "text/plain": [
       "id                      0\n",
       "Gender                  0\n",
       "Age                     0\n",
       "Driving_License         0\n",
       "Region_Code             0\n",
       "Previously_Insured      0\n",
       "Vehicle_Age             0\n",
       "Vehicle_Damage          0\n",
       "Annual_Premium          0\n",
       "Policy_Sales_Channel    0\n",
       "Vintage                 0\n",
       "Response                0\n",
       "dtype: int64"
      ]
     },
     "metadata": {},
     "execution_count": 5
    }
   ],
   "source": [
    "data_train.isna().sum()"
   ]
  },
  {
   "cell_type": "code",
   "execution_count": 6,
   "metadata": {},
   "outputs": [
    {
     "output_type": "stream",
     "name": "stdout",
     "text": [
      "<class 'pandas.core.frame.DataFrame'>\nRangeIndex: 152862 entries, 0 to 152861\nData columns (total 11 columns):\n #   Column                Non-Null Count   Dtype  \n---  ------                --------------   -----  \n 0   id                    152862 non-null  int64  \n 1   Gender                152862 non-null  object \n 2   Age                   152862 non-null  int64  \n 3   Driving_License       152862 non-null  int64  \n 4   Region_Code           152862 non-null  float64\n 5   Previously_Insured    152862 non-null  int64  \n 6   Vehicle_Age           152862 non-null  object \n 7   Vehicle_Damage        152862 non-null  object \n 8   Annual_Premium        152862 non-null  float64\n 9   Policy_Sales_Channel  152862 non-null  float64\n 10  Vintage               152862 non-null  int64  \ndtypes: float64(3), int64(5), object(3)\nmemory usage: 12.8+ MB\n"
     ]
    }
   ],
   "source": [
    "data_test.info()"
   ]
  },
  {
   "cell_type": "code",
   "execution_count": 7,
   "metadata": {},
   "outputs": [
    {
     "output_type": "stream",
     "name": "stdout",
     "text": [
      "<class 'pandas.core.frame.DataFrame'>\nRangeIndex: 229292 entries, 0 to 229291\nData columns (total 12 columns):\n #   Column                Non-Null Count   Dtype  \n---  ------                --------------   -----  \n 0   id                    229292 non-null  int64  \n 1   Gender                229292 non-null  object \n 2   Age                   229292 non-null  int64  \n 3   Driving_License       229292 non-null  int64  \n 4   Region_Code           229292 non-null  float64\n 5   Previously_Insured    229292 non-null  int64  \n 6   Vehicle_Age           229292 non-null  object \n 7   Vehicle_Damage        229292 non-null  object \n 8   Annual_Premium        229292 non-null  float64\n 9   Policy_Sales_Channel  229292 non-null  float64\n 10  Vintage               229292 non-null  int64  \n 11  Response              229292 non-null  int64  \ndtypes: float64(3), int64(6), object(3)\nmemory usage: 21.0+ MB\n"
     ]
    }
   ],
   "source": [
    "data_train.info()"
   ]
  },
  {
   "cell_type": "code",
   "execution_count": 8,
   "metadata": {},
   "outputs": [
    {
     "output_type": "execute_result",
     "data": {
      "text/plain": [
       "                  id            Age  Driving_License    Region_Code  \\\n",
       "count  229292.000000  229292.000000    229292.000000  229292.000000   \n",
       "mean   234460.942475      38.554987         0.998138      26.420207   \n",
       "std    139490.034283      15.231658         0.043114      13.191474   \n",
       "min         1.000000      20.000000         0.000000       0.000000   \n",
       "25%    115085.000000      25.000000         1.000000      15.000000   \n",
       "50%    230564.500000      36.000000         1.000000      28.000000   \n",
       "75%    345683.500000      49.000000         1.000000      35.000000   \n",
       "max    508144.000000      85.000000         1.000000      52.000000   \n",
       "\n",
       "       Previously_Insured  Annual_Premium  Policy_Sales_Channel  \\\n",
       "count       229292.000000   229292.000000         229292.000000   \n",
       "mean             0.489062    30730.076549            111.923669   \n",
       "std              0.499881    17054.686028             54.308261   \n",
       "min              0.000000     2630.000000              1.000000   \n",
       "25%              0.000000    24564.000000             26.000000   \n",
       "50%              0.000000    31709.000000            140.000000   \n",
       "75%              1.000000    39470.000000            152.000000   \n",
       "max              1.000000   540165.000000            163.000000   \n",
       "\n",
       "             Vintage       Response  \n",
       "count  229292.000000  229292.000000  \n",
       "mean      154.194425       0.164079  \n",
       "std        83.727049       0.370348  \n",
       "min        10.000000       0.000000  \n",
       "25%        82.000000       0.000000  \n",
       "50%       154.000000       0.000000  \n",
       "75%       227.000000       0.000000  \n",
       "max       299.000000       1.000000  "
      ],
      "text/html": "<div>\n<style scoped>\n    .dataframe tbody tr th:only-of-type {\n        vertical-align: middle;\n    }\n\n    .dataframe tbody tr th {\n        vertical-align: top;\n    }\n\n    .dataframe thead th {\n        text-align: right;\n    }\n</style>\n<table border=\"1\" class=\"dataframe\">\n  <thead>\n    <tr style=\"text-align: right;\">\n      <th></th>\n      <th>id</th>\n      <th>Age</th>\n      <th>Driving_License</th>\n      <th>Region_Code</th>\n      <th>Previously_Insured</th>\n      <th>Annual_Premium</th>\n      <th>Policy_Sales_Channel</th>\n      <th>Vintage</th>\n      <th>Response</th>\n    </tr>\n  </thead>\n  <tbody>\n    <tr>\n      <th>count</th>\n      <td>229292.000000</td>\n      <td>229292.000000</td>\n      <td>229292.000000</td>\n      <td>229292.000000</td>\n      <td>229292.000000</td>\n      <td>229292.000000</td>\n      <td>229292.000000</td>\n      <td>229292.000000</td>\n      <td>229292.000000</td>\n    </tr>\n    <tr>\n      <th>mean</th>\n      <td>234460.942475</td>\n      <td>38.554987</td>\n      <td>0.998138</td>\n      <td>26.420207</td>\n      <td>0.489062</td>\n      <td>30730.076549</td>\n      <td>111.923669</td>\n      <td>154.194425</td>\n      <td>0.164079</td>\n    </tr>\n    <tr>\n      <th>std</th>\n      <td>139490.034283</td>\n      <td>15.231658</td>\n      <td>0.043114</td>\n      <td>13.191474</td>\n      <td>0.499881</td>\n      <td>17054.686028</td>\n      <td>54.308261</td>\n      <td>83.727049</td>\n      <td>0.370348</td>\n    </tr>\n    <tr>\n      <th>min</th>\n      <td>1.000000</td>\n      <td>20.000000</td>\n      <td>0.000000</td>\n      <td>0.000000</td>\n      <td>0.000000</td>\n      <td>2630.000000</td>\n      <td>1.000000</td>\n      <td>10.000000</td>\n      <td>0.000000</td>\n    </tr>\n    <tr>\n      <th>25%</th>\n      <td>115085.000000</td>\n      <td>25.000000</td>\n      <td>1.000000</td>\n      <td>15.000000</td>\n      <td>0.000000</td>\n      <td>24564.000000</td>\n      <td>26.000000</td>\n      <td>82.000000</td>\n      <td>0.000000</td>\n    </tr>\n    <tr>\n      <th>50%</th>\n      <td>230564.500000</td>\n      <td>36.000000</td>\n      <td>1.000000</td>\n      <td>28.000000</td>\n      <td>0.000000</td>\n      <td>31709.000000</td>\n      <td>140.000000</td>\n      <td>154.000000</td>\n      <td>0.000000</td>\n    </tr>\n    <tr>\n      <th>75%</th>\n      <td>345683.500000</td>\n      <td>49.000000</td>\n      <td>1.000000</td>\n      <td>35.000000</td>\n      <td>1.000000</td>\n      <td>39470.000000</td>\n      <td>152.000000</td>\n      <td>227.000000</td>\n      <td>0.000000</td>\n    </tr>\n    <tr>\n      <th>max</th>\n      <td>508144.000000</td>\n      <td>85.000000</td>\n      <td>1.000000</td>\n      <td>52.000000</td>\n      <td>1.000000</td>\n      <td>540165.000000</td>\n      <td>163.000000</td>\n      <td>299.000000</td>\n      <td>1.000000</td>\n    </tr>\n  </tbody>\n</table>\n</div>"
     },
     "metadata": {},
     "execution_count": 8
    }
   ],
   "source": [
    "data_train.describe()"
   ]
  },
  {
   "cell_type": "code",
   "execution_count": 9,
   "metadata": {},
   "outputs": [
    {
     "output_type": "stream",
     "name": "stdout",
     "text": [
      "Unique values for Gender: ['Male' 'Female']\n",
      "Unique values for Vehicle_Damage: ['No' 'Yes']\n",
      "Unique values for Vehicle_Age: ['< 1 Year' '1-2 Year' '> 2 Years']\n",
      "Unique values for Gender in training data: ['Male' 'Female']\n",
      "Unique values for Vehicle_Damage in training data: ['No' 'Yes']\n",
      "Unique values for Vehicle_Age in training data: ['1-2 Year' '< 1 Year' '> 2 Years']\n"
     ]
    }
   ],
   "source": [
    "print(f\"Unique values for Gender: {data_test.Gender.unique()}\")\n",
    "print(f\"Unique values for Vehicle_Damage: {data_test.Vehicle_Damage.unique()}\")\n",
    "print(f\"Unique values for Vehicle_Age: {data_test.Vehicle_Age.unique()}\")\n",
    "print(f\"Unique values for Gender in training data: {data_train.Gender.unique()}\")\n",
    "print(f\"Unique values for Vehicle_Damage in training data: {data_train.Vehicle_Damage.unique()}\")\n",
    "print(f\"Unique values for Vehicle_Age in training data: {data_train.Vehicle_Age.unique()}\")"
   ]
  },
  {
   "cell_type": "code",
   "execution_count": 10,
   "metadata": {},
   "outputs": [],
   "source": [
    "enc = OneHotEncoder()\n",
    "\n",
    "enc.fit_transform(data_test[['Gender']])\n",
    "dummies = pd.get_dummies(data_test.Gender)\n",
    "data_test = data_test.join(dummies)\n",
    "data_test.drop(['Gender'], axis=1, inplace=True)\n",
    "\n",
    "enc.fit_transform(data_test[['Vehicle_Damage']])\n",
    "dummies = pd.get_dummies(data_test.Vehicle_Damage)\n",
    "data_test = data_test.join(dummies)\n",
    "data_test.drop(['Vehicle_Damage'], axis=1, inplace=True)\n",
    "\n",
    "enc.fit_transform(data_test[['Vehicle_Age']])\n",
    "dummies = pd.get_dummies(data_test.Vehicle_Age)\n",
    "data_test = data_test.join(dummies)\n",
    "data_test.drop(['Vehicle_Age'], axis=1, inplace=True)\n",
    "\n",
    "enc.fit_transform(data_test[['Previously_Insured']])\n",
    "dummies = pd.get_dummies(data_test.Previously_Insured)\n",
    "data_test = data_test.join(dummies)\n",
    "data_test.drop(['Previously_Insured'], axis=1, inplace=True)\n",
    "\n",
    "\n",
    "enc.fit_transform(data_train[['Gender']])\n",
    "dummies = pd.get_dummies(data_train.Gender)\n",
    "data_train = data_train.join(dummies)\n",
    "data_train.drop(['Gender'], axis=1, inplace=True)\n",
    "\n",
    "enc.fit_transform(data_train[['Vehicle_Damage']])\n",
    "dummies = pd.get_dummies(data_train.Vehicle_Damage)\n",
    "data_train = data_train.join(dummies)\n",
    "data_train.drop(['Vehicle_Damage'], axis=1, inplace=True)\n",
    "\n",
    "enc.fit_transform(data_train[['Vehicle_Age']])\n",
    "dummies = pd.get_dummies(data_train.Vehicle_Age)\n",
    "data_train = data_train.join(dummies)\n",
    "data_train.drop(['Vehicle_Age'], axis=1, inplace=True)\n",
    "\n",
    "enc.fit_transform(data_train[['Previously_Insured']])\n",
    "dummies = pd.get_dummies(data_train.Previously_Insured)\n",
    "data_train = data_train.join(dummies)\n",
    "data_train.drop(['Previously_Insured'], axis=1, inplace=True)\n"
   ]
  },
  {
   "cell_type": "code",
   "execution_count": 11,
   "metadata": {},
   "outputs": [
    {
     "output_type": "execute_result",
     "data": {
      "text/plain": [
       "            id  Age  Driving_License  Region_Code  Annual_Premium  \\\n",
       "0       151069   23                1         41.0         27117.0   \n",
       "1       460048   42                1         28.0         63230.0   \n",
       "2       362380   47                1         28.0         40571.0   \n",
       "3       191116   23                1         41.0         28049.0   \n",
       "4       422660   42                1         41.0         32520.0   \n",
       "...        ...  ...              ...          ...             ...   \n",
       "152857  368806   42                1         35.0         27976.0   \n",
       "152858   55749   23                1         32.0         25777.0   \n",
       "152859  112077   31                1         29.0          2630.0   \n",
       "152860  443675   22                1         29.0         53202.0   \n",
       "152861  444659   47                1         13.0         33107.0   \n",
       "\n",
       "        Policy_Sales_Channel  Vintage  Female  Male  No  Yes  1-2 Year  \\\n",
       "0                      152.0       79       0     1   1    0         0   \n",
       "1                       26.0      287       1     0   1    0         1   \n",
       "2                      124.0      265       0     1   0    1         1   \n",
       "3                      152.0      226       0     1   1    0         0   \n",
       "4                      124.0      292       0     1   0    1         0   \n",
       "...                      ...      ...     ...   ...  ..  ...       ...   \n",
       "152857                 124.0      277       0     1   0    1         1   \n",
       "152858                 152.0      280       1     0   1    0         0   \n",
       "152859                 152.0      209       1     0   1    0         0   \n",
       "152860                 152.0      224       1     0   1    0         0   \n",
       "152861                  25.0      282       0     1   0    1         1   \n",
       "\n",
       "        < 1 Year  > 2 Years  0  1  \n",
       "0              1          0  0  1  \n",
       "1              0          0  0  1  \n",
       "2              0          0  0  1  \n",
       "3              1          0  0  1  \n",
       "4              0          1  1  0  \n",
       "...          ...        ... .. ..  \n",
       "152857         0          0  0  1  \n",
       "152858         1          0  0  1  \n",
       "152859         1          0  0  1  \n",
       "152860         1          0  0  1  \n",
       "152861         0          0  1  0  \n",
       "\n",
       "[152862 rows x 16 columns]"
      ],
      "text/html": "<div>\n<style scoped>\n    .dataframe tbody tr th:only-of-type {\n        vertical-align: middle;\n    }\n\n    .dataframe tbody tr th {\n        vertical-align: top;\n    }\n\n    .dataframe thead th {\n        text-align: right;\n    }\n</style>\n<table border=\"1\" class=\"dataframe\">\n  <thead>\n    <tr style=\"text-align: right;\">\n      <th></th>\n      <th>id</th>\n      <th>Age</th>\n      <th>Driving_License</th>\n      <th>Region_Code</th>\n      <th>Annual_Premium</th>\n      <th>Policy_Sales_Channel</th>\n      <th>Vintage</th>\n      <th>Female</th>\n      <th>Male</th>\n      <th>No</th>\n      <th>Yes</th>\n      <th>1-2 Year</th>\n      <th>&lt; 1 Year</th>\n      <th>&gt; 2 Years</th>\n      <th>0</th>\n      <th>1</th>\n    </tr>\n  </thead>\n  <tbody>\n    <tr>\n      <th>0</th>\n      <td>151069</td>\n      <td>23</td>\n      <td>1</td>\n      <td>41.0</td>\n      <td>27117.0</td>\n      <td>152.0</td>\n      <td>79</td>\n      <td>0</td>\n      <td>1</td>\n      <td>1</td>\n      <td>0</td>\n      <td>0</td>\n      <td>1</td>\n      <td>0</td>\n      <td>0</td>\n      <td>1</td>\n    </tr>\n    <tr>\n      <th>1</th>\n      <td>460048</td>\n      <td>42</td>\n      <td>1</td>\n      <td>28.0</td>\n      <td>63230.0</td>\n      <td>26.0</td>\n      <td>287</td>\n      <td>1</td>\n      <td>0</td>\n      <td>1</td>\n      <td>0</td>\n      <td>1</td>\n      <td>0</td>\n      <td>0</td>\n      <td>0</td>\n      <td>1</td>\n    </tr>\n    <tr>\n      <th>2</th>\n      <td>362380</td>\n      <td>47</td>\n      <td>1</td>\n      <td>28.0</td>\n      <td>40571.0</td>\n      <td>124.0</td>\n      <td>265</td>\n      <td>0</td>\n      <td>1</td>\n      <td>0</td>\n      <td>1</td>\n      <td>1</td>\n      <td>0</td>\n      <td>0</td>\n      <td>0</td>\n      <td>1</td>\n    </tr>\n    <tr>\n      <th>3</th>\n      <td>191116</td>\n      <td>23</td>\n      <td>1</td>\n      <td>41.0</td>\n      <td>28049.0</td>\n      <td>152.0</td>\n      <td>226</td>\n      <td>0</td>\n      <td>1</td>\n      <td>1</td>\n      <td>0</td>\n      <td>0</td>\n      <td>1</td>\n      <td>0</td>\n      <td>0</td>\n      <td>1</td>\n    </tr>\n    <tr>\n      <th>4</th>\n      <td>422660</td>\n      <td>42</td>\n      <td>1</td>\n      <td>41.0</td>\n      <td>32520.0</td>\n      <td>124.0</td>\n      <td>292</td>\n      <td>0</td>\n      <td>1</td>\n      <td>0</td>\n      <td>1</td>\n      <td>0</td>\n      <td>0</td>\n      <td>1</td>\n      <td>1</td>\n      <td>0</td>\n    </tr>\n    <tr>\n      <th>...</th>\n      <td>...</td>\n      <td>...</td>\n      <td>...</td>\n      <td>...</td>\n      <td>...</td>\n      <td>...</td>\n      <td>...</td>\n      <td>...</td>\n      <td>...</td>\n      <td>...</td>\n      <td>...</td>\n      <td>...</td>\n      <td>...</td>\n      <td>...</td>\n      <td>...</td>\n      <td>...</td>\n    </tr>\n    <tr>\n      <th>152857</th>\n      <td>368806</td>\n      <td>42</td>\n      <td>1</td>\n      <td>35.0</td>\n      <td>27976.0</td>\n      <td>124.0</td>\n      <td>277</td>\n      <td>0</td>\n      <td>1</td>\n      <td>0</td>\n      <td>1</td>\n      <td>1</td>\n      <td>0</td>\n      <td>0</td>\n      <td>0</td>\n      <td>1</td>\n    </tr>\n    <tr>\n      <th>152858</th>\n      <td>55749</td>\n      <td>23</td>\n      <td>1</td>\n      <td>32.0</td>\n      <td>25777.0</td>\n      <td>152.0</td>\n      <td>280</td>\n      <td>1</td>\n      <td>0</td>\n      <td>1</td>\n      <td>0</td>\n      <td>0</td>\n      <td>1</td>\n      <td>0</td>\n      <td>0</td>\n      <td>1</td>\n    </tr>\n    <tr>\n      <th>152859</th>\n      <td>112077</td>\n      <td>31</td>\n      <td>1</td>\n      <td>29.0</td>\n      <td>2630.0</td>\n      <td>152.0</td>\n      <td>209</td>\n      <td>1</td>\n      <td>0</td>\n      <td>1</td>\n      <td>0</td>\n      <td>0</td>\n      <td>1</td>\n      <td>0</td>\n      <td>0</td>\n      <td>1</td>\n    </tr>\n    <tr>\n      <th>152860</th>\n      <td>443675</td>\n      <td>22</td>\n      <td>1</td>\n      <td>29.0</td>\n      <td>53202.0</td>\n      <td>152.0</td>\n      <td>224</td>\n      <td>1</td>\n      <td>0</td>\n      <td>1</td>\n      <td>0</td>\n      <td>0</td>\n      <td>1</td>\n      <td>0</td>\n      <td>0</td>\n      <td>1</td>\n    </tr>\n    <tr>\n      <th>152861</th>\n      <td>444659</td>\n      <td>47</td>\n      <td>1</td>\n      <td>13.0</td>\n      <td>33107.0</td>\n      <td>25.0</td>\n      <td>282</td>\n      <td>0</td>\n      <td>1</td>\n      <td>0</td>\n      <td>1</td>\n      <td>1</td>\n      <td>0</td>\n      <td>0</td>\n      <td>1</td>\n      <td>0</td>\n    </tr>\n  </tbody>\n</table>\n<p>152862 rows × 16 columns</p>\n</div>"
     },
     "metadata": {},
     "execution_count": 11
    }
   ],
   "source": [
    "data_test"
   ]
  },
  {
   "cell_type": "code",
   "execution_count": 12,
   "metadata": {},
   "outputs": [],
   "source": [
    "data_test.drop(['Driving_License'], axis=1, inplace=True)\n",
    "data_test.drop(['Region_Code'], axis=1, inplace=True)\n",
    "data_train.drop(['Driving_License'], axis=1, inplace=True)\n",
    "data_train.drop(['Region_Code'], axis=1, inplace=True)"
   ]
  },
  {
   "cell_type": "code",
   "execution_count": 13,
   "metadata": {},
   "outputs": [
    {
     "output_type": "execute_result",
     "data": {
      "text/plain": [
       "            id  Age  Annual_Premium  Policy_Sales_Channel  Vintage  Female  \\\n",
       "0       151069   23         27117.0                 152.0       79       0   \n",
       "1       460048   42         63230.0                  26.0      287       1   \n",
       "2       362380   47         40571.0                 124.0      265       0   \n",
       "3       191116   23         28049.0                 152.0      226       0   \n",
       "4       422660   42         32520.0                 124.0      292       0   \n",
       "...        ...  ...             ...                   ...      ...     ...   \n",
       "152857  368806   42         27976.0                 124.0      277       0   \n",
       "152858   55749   23         25777.0                 152.0      280       1   \n",
       "152859  112077   31          2630.0                 152.0      209       1   \n",
       "152860  443675   22         53202.0                 152.0      224       1   \n",
       "152861  444659   47         33107.0                  25.0      282       0   \n",
       "\n",
       "        Male  No  Yes  1-2 Year  < 1 Year  > 2 Years  0  1  \n",
       "0          1   1    0         0         1          0  0  1  \n",
       "1          0   1    0         1         0          0  0  1  \n",
       "2          1   0    1         1         0          0  0  1  \n",
       "3          1   1    0         0         1          0  0  1  \n",
       "4          1   0    1         0         0          1  1  0  \n",
       "...      ...  ..  ...       ...       ...        ... .. ..  \n",
       "152857     1   0    1         1         0          0  0  1  \n",
       "152858     0   1    0         0         1          0  0  1  \n",
       "152859     0   1    0         0         1          0  0  1  \n",
       "152860     0   1    0         0         1          0  0  1  \n",
       "152861     1   0    1         1         0          0  1  0  \n",
       "\n",
       "[152862 rows x 14 columns]"
      ],
      "text/html": "<div>\n<style scoped>\n    .dataframe tbody tr th:only-of-type {\n        vertical-align: middle;\n    }\n\n    .dataframe tbody tr th {\n        vertical-align: top;\n    }\n\n    .dataframe thead th {\n        text-align: right;\n    }\n</style>\n<table border=\"1\" class=\"dataframe\">\n  <thead>\n    <tr style=\"text-align: right;\">\n      <th></th>\n      <th>id</th>\n      <th>Age</th>\n      <th>Annual_Premium</th>\n      <th>Policy_Sales_Channel</th>\n      <th>Vintage</th>\n      <th>Female</th>\n      <th>Male</th>\n      <th>No</th>\n      <th>Yes</th>\n      <th>1-2 Year</th>\n      <th>&lt; 1 Year</th>\n      <th>&gt; 2 Years</th>\n      <th>0</th>\n      <th>1</th>\n    </tr>\n  </thead>\n  <tbody>\n    <tr>\n      <th>0</th>\n      <td>151069</td>\n      <td>23</td>\n      <td>27117.0</td>\n      <td>152.0</td>\n      <td>79</td>\n      <td>0</td>\n      <td>1</td>\n      <td>1</td>\n      <td>0</td>\n      <td>0</td>\n      <td>1</td>\n      <td>0</td>\n      <td>0</td>\n      <td>1</td>\n    </tr>\n    <tr>\n      <th>1</th>\n      <td>460048</td>\n      <td>42</td>\n      <td>63230.0</td>\n      <td>26.0</td>\n      <td>287</td>\n      <td>1</td>\n      <td>0</td>\n      <td>1</td>\n      <td>0</td>\n      <td>1</td>\n      <td>0</td>\n      <td>0</td>\n      <td>0</td>\n      <td>1</td>\n    </tr>\n    <tr>\n      <th>2</th>\n      <td>362380</td>\n      <td>47</td>\n      <td>40571.0</td>\n      <td>124.0</td>\n      <td>265</td>\n      <td>0</td>\n      <td>1</td>\n      <td>0</td>\n      <td>1</td>\n      <td>1</td>\n      <td>0</td>\n      <td>0</td>\n      <td>0</td>\n      <td>1</td>\n    </tr>\n    <tr>\n      <th>3</th>\n      <td>191116</td>\n      <td>23</td>\n      <td>28049.0</td>\n      <td>152.0</td>\n      <td>226</td>\n      <td>0</td>\n      <td>1</td>\n      <td>1</td>\n      <td>0</td>\n      <td>0</td>\n      <td>1</td>\n      <td>0</td>\n      <td>0</td>\n      <td>1</td>\n    </tr>\n    <tr>\n      <th>4</th>\n      <td>422660</td>\n      <td>42</td>\n      <td>32520.0</td>\n      <td>124.0</td>\n      <td>292</td>\n      <td>0</td>\n      <td>1</td>\n      <td>0</td>\n      <td>1</td>\n      <td>0</td>\n      <td>0</td>\n      <td>1</td>\n      <td>1</td>\n      <td>0</td>\n    </tr>\n    <tr>\n      <th>...</th>\n      <td>...</td>\n      <td>...</td>\n      <td>...</td>\n      <td>...</td>\n      <td>...</td>\n      <td>...</td>\n      <td>...</td>\n      <td>...</td>\n      <td>...</td>\n      <td>...</td>\n      <td>...</td>\n      <td>...</td>\n      <td>...</td>\n      <td>...</td>\n    </tr>\n    <tr>\n      <th>152857</th>\n      <td>368806</td>\n      <td>42</td>\n      <td>27976.0</td>\n      <td>124.0</td>\n      <td>277</td>\n      <td>0</td>\n      <td>1</td>\n      <td>0</td>\n      <td>1</td>\n      <td>1</td>\n      <td>0</td>\n      <td>0</td>\n      <td>0</td>\n      <td>1</td>\n    </tr>\n    <tr>\n      <th>152858</th>\n      <td>55749</td>\n      <td>23</td>\n      <td>25777.0</td>\n      <td>152.0</td>\n      <td>280</td>\n      <td>1</td>\n      <td>0</td>\n      <td>1</td>\n      <td>0</td>\n      <td>0</td>\n      <td>1</td>\n      <td>0</td>\n      <td>0</td>\n      <td>1</td>\n    </tr>\n    <tr>\n      <th>152859</th>\n      <td>112077</td>\n      <td>31</td>\n      <td>2630.0</td>\n      <td>152.0</td>\n      <td>209</td>\n      <td>1</td>\n      <td>0</td>\n      <td>1</td>\n      <td>0</td>\n      <td>0</td>\n      <td>1</td>\n      <td>0</td>\n      <td>0</td>\n      <td>1</td>\n    </tr>\n    <tr>\n      <th>152860</th>\n      <td>443675</td>\n      <td>22</td>\n      <td>53202.0</td>\n      <td>152.0</td>\n      <td>224</td>\n      <td>1</td>\n      <td>0</td>\n      <td>1</td>\n      <td>0</td>\n      <td>0</td>\n      <td>1</td>\n      <td>0</td>\n      <td>0</td>\n      <td>1</td>\n    </tr>\n    <tr>\n      <th>152861</th>\n      <td>444659</td>\n      <td>47</td>\n      <td>33107.0</td>\n      <td>25.0</td>\n      <td>282</td>\n      <td>0</td>\n      <td>1</td>\n      <td>0</td>\n      <td>1</td>\n      <td>1</td>\n      <td>0</td>\n      <td>0</td>\n      <td>1</td>\n      <td>0</td>\n    </tr>\n  </tbody>\n</table>\n<p>152862 rows × 14 columns</p>\n</div>"
     },
     "metadata": {},
     "execution_count": 13
    }
   ],
   "source": [
    "data_test"
   ]
  },
  {
   "cell_type": "code",
   "execution_count": 14,
   "metadata": {},
   "outputs": [],
   "source": [
    "numerical_data = [\n",
    "    'Age',\n",
    "    'Annual_Premium',\n",
    "    'Policy_Sales_Channel',\n",
    "    'Vintage'\n",
    "]\n",
    "\n",
    "data_test[numerical_data] = MinMaxScaler().fit_transform(data_test[numerical_data])\n",
    "data_train[numerical_data] = MinMaxScaler().fit_transform(data_train[numerical_data])\n"
   ]
  },
  {
   "cell_type": "code",
   "execution_count": 15,
   "metadata": {},
   "outputs": [
    {
     "output_type": "execute_result",
     "data": {
      "text/plain": [
       "            id       Age  Annual_Premium  Policy_Sales_Channel   Vintage  \\\n",
       "0       151069  0.046154        0.049722              0.932099  0.238754   \n",
       "1       460048  0.338462        0.123052              0.154321  0.958478   \n",
       "2       362380  0.415385        0.077041              0.759259  0.882353   \n",
       "3       191116  0.046154        0.051615              0.932099  0.747405   \n",
       "4       422660  0.338462        0.060693              0.759259  0.975779   \n",
       "...        ...       ...             ...                   ...       ...   \n",
       "152857  368806  0.338462        0.051466              0.759259  0.923875   \n",
       "152858   55749  0.046154        0.047001              0.932099  0.934256   \n",
       "152859  112077  0.169231        0.000000              0.932099  0.688581   \n",
       "152860  443675  0.030769        0.102689              0.932099  0.740484   \n",
       "152861  444659  0.415385        0.061885              0.148148  0.941176   \n",
       "\n",
       "        Female  Male  No  Yes  1-2 Year  < 1 Year  > 2 Years  0  1  \n",
       "0            0     1   1    0         0         1          0  0  1  \n",
       "1            1     0   1    0         1         0          0  0  1  \n",
       "2            0     1   0    1         1         0          0  0  1  \n",
       "3            0     1   1    0         0         1          0  0  1  \n",
       "4            0     1   0    1         0         0          1  1  0  \n",
       "...        ...   ...  ..  ...       ...       ...        ... .. ..  \n",
       "152857       0     1   0    1         1         0          0  0  1  \n",
       "152858       1     0   1    0         0         1          0  0  1  \n",
       "152859       1     0   1    0         0         1          0  0  1  \n",
       "152860       1     0   1    0         0         1          0  0  1  \n",
       "152861       0     1   0    1         1         0          0  1  0  \n",
       "\n",
       "[152862 rows x 14 columns]"
      ],
      "text/html": "<div>\n<style scoped>\n    .dataframe tbody tr th:only-of-type {\n        vertical-align: middle;\n    }\n\n    .dataframe tbody tr th {\n        vertical-align: top;\n    }\n\n    .dataframe thead th {\n        text-align: right;\n    }\n</style>\n<table border=\"1\" class=\"dataframe\">\n  <thead>\n    <tr style=\"text-align: right;\">\n      <th></th>\n      <th>id</th>\n      <th>Age</th>\n      <th>Annual_Premium</th>\n      <th>Policy_Sales_Channel</th>\n      <th>Vintage</th>\n      <th>Female</th>\n      <th>Male</th>\n      <th>No</th>\n      <th>Yes</th>\n      <th>1-2 Year</th>\n      <th>&lt; 1 Year</th>\n      <th>&gt; 2 Years</th>\n      <th>0</th>\n      <th>1</th>\n    </tr>\n  </thead>\n  <tbody>\n    <tr>\n      <th>0</th>\n      <td>151069</td>\n      <td>0.046154</td>\n      <td>0.049722</td>\n      <td>0.932099</td>\n      <td>0.238754</td>\n      <td>0</td>\n      <td>1</td>\n      <td>1</td>\n      <td>0</td>\n      <td>0</td>\n      <td>1</td>\n      <td>0</td>\n      <td>0</td>\n      <td>1</td>\n    </tr>\n    <tr>\n      <th>1</th>\n      <td>460048</td>\n      <td>0.338462</td>\n      <td>0.123052</td>\n      <td>0.154321</td>\n      <td>0.958478</td>\n      <td>1</td>\n      <td>0</td>\n      <td>1</td>\n      <td>0</td>\n      <td>1</td>\n      <td>0</td>\n      <td>0</td>\n      <td>0</td>\n      <td>1</td>\n    </tr>\n    <tr>\n      <th>2</th>\n      <td>362380</td>\n      <td>0.415385</td>\n      <td>0.077041</td>\n      <td>0.759259</td>\n      <td>0.882353</td>\n      <td>0</td>\n      <td>1</td>\n      <td>0</td>\n      <td>1</td>\n      <td>1</td>\n      <td>0</td>\n      <td>0</td>\n      <td>0</td>\n      <td>1</td>\n    </tr>\n    <tr>\n      <th>3</th>\n      <td>191116</td>\n      <td>0.046154</td>\n      <td>0.051615</td>\n      <td>0.932099</td>\n      <td>0.747405</td>\n      <td>0</td>\n      <td>1</td>\n      <td>1</td>\n      <td>0</td>\n      <td>0</td>\n      <td>1</td>\n      <td>0</td>\n      <td>0</td>\n      <td>1</td>\n    </tr>\n    <tr>\n      <th>4</th>\n      <td>422660</td>\n      <td>0.338462</td>\n      <td>0.060693</td>\n      <td>0.759259</td>\n      <td>0.975779</td>\n      <td>0</td>\n      <td>1</td>\n      <td>0</td>\n      <td>1</td>\n      <td>0</td>\n      <td>0</td>\n      <td>1</td>\n      <td>1</td>\n      <td>0</td>\n    </tr>\n    <tr>\n      <th>...</th>\n      <td>...</td>\n      <td>...</td>\n      <td>...</td>\n      <td>...</td>\n      <td>...</td>\n      <td>...</td>\n      <td>...</td>\n      <td>...</td>\n      <td>...</td>\n      <td>...</td>\n      <td>...</td>\n      <td>...</td>\n      <td>...</td>\n      <td>...</td>\n    </tr>\n    <tr>\n      <th>152857</th>\n      <td>368806</td>\n      <td>0.338462</td>\n      <td>0.051466</td>\n      <td>0.759259</td>\n      <td>0.923875</td>\n      <td>0</td>\n      <td>1</td>\n      <td>0</td>\n      <td>1</td>\n      <td>1</td>\n      <td>0</td>\n      <td>0</td>\n      <td>0</td>\n      <td>1</td>\n    </tr>\n    <tr>\n      <th>152858</th>\n      <td>55749</td>\n      <td>0.046154</td>\n      <td>0.047001</td>\n      <td>0.932099</td>\n      <td>0.934256</td>\n      <td>1</td>\n      <td>0</td>\n      <td>1</td>\n      <td>0</td>\n      <td>0</td>\n      <td>1</td>\n      <td>0</td>\n      <td>0</td>\n      <td>1</td>\n    </tr>\n    <tr>\n      <th>152859</th>\n      <td>112077</td>\n      <td>0.169231</td>\n      <td>0.000000</td>\n      <td>0.932099</td>\n      <td>0.688581</td>\n      <td>1</td>\n      <td>0</td>\n      <td>1</td>\n      <td>0</td>\n      <td>0</td>\n      <td>1</td>\n      <td>0</td>\n      <td>0</td>\n      <td>1</td>\n    </tr>\n    <tr>\n      <th>152860</th>\n      <td>443675</td>\n      <td>0.030769</td>\n      <td>0.102689</td>\n      <td>0.932099</td>\n      <td>0.740484</td>\n      <td>1</td>\n      <td>0</td>\n      <td>1</td>\n      <td>0</td>\n      <td>0</td>\n      <td>1</td>\n      <td>0</td>\n      <td>0</td>\n      <td>1</td>\n    </tr>\n    <tr>\n      <th>152861</th>\n      <td>444659</td>\n      <td>0.415385</td>\n      <td>0.061885</td>\n      <td>0.148148</td>\n      <td>0.941176</td>\n      <td>0</td>\n      <td>1</td>\n      <td>0</td>\n      <td>1</td>\n      <td>1</td>\n      <td>0</td>\n      <td>0</td>\n      <td>1</td>\n      <td>0</td>\n    </tr>\n  </tbody>\n</table>\n<p>152862 rows × 14 columns</p>\n</div>"
     },
     "metadata": {},
     "execution_count": 15
    }
   ],
   "source": [
    "data_test"
   ]
  },
  {
   "cell_type": "code",
   "execution_count": 17,
   "metadata": {},
   "outputs": [],
   "source": [
    "data_train_responce = data_train.Response\n",
    "data_train.drop(['Response'], axis=1, inplace=True)"
   ]
  },
  {
   "cell_type": "code",
   "execution_count": 20,
   "metadata": {},
   "outputs": [],
   "source": [
    "x_train, x_val, y_train, y_val = train_test_split(data_train, data_train_responce, train_size=0.7, random_state=123, shuffle=True, stratify=data_train_responce)"
   ]
  },
  {
   "cell_type": "code",
   "execution_count": 21,
   "metadata": {},
   "outputs": [],
   "source": [
    "from sklearn.ensemble import RandomForestClassifier, GradientBoostingClassifier\n",
    "\n",
    "\n",
    "rfmodel = RandomForestClassifier(max_depth=10,\n",
    "                                 min_samples_leaf=6, \n",
    "                                 n_estimators=150,\n",
    "                                 random_state=50,\n",
    "                                 max_samples=5000,\n",
    "                                 )\n",
    "rfmodel.fit(x_train, y_train) \n",
    "y_train_predicted_rf = rfmodel.predict_proba(x_train)[:, 1]\n",
    "y_val_predicted_rf = rfmodel.predict_proba(x_val)[:, 1]"
   ]
  },
  {
   "cell_type": "code",
   "execution_count": 22,
   "metadata": {},
   "outputs": [],
   "source": [
    "test_id = data_test.index\n",
    "y_test_predicted = rfmodel.predict_proba(data_test)[:, 1]"
   ]
  },
  {
   "cell_type": "code",
   "execution_count": 23,
   "metadata": {},
   "outputs": [
    {
     "output_type": "execute_result",
     "data": {
      "text/plain": [
       "            id       Age  Annual_Premium  Policy_Sales_Channel   Vintage  \\\n",
       "0       213892  0.430769        0.041471              0.154321  0.262976   \n",
       "1       269011  0.584615        0.113315              0.154321  0.162630   \n",
       "2        31464  0.369231        0.050968              0.154321  0.955017   \n",
       "3        86379  0.030769        0.060292              0.932099  0.588235   \n",
       "4       456843  0.061538        0.040033              0.932099  0.024221   \n",
       "...        ...       ...             ...                   ...       ...   \n",
       "229287   50272  0.800000        0.068001              0.765432  0.799308   \n",
       "229288  254780  0.015385        0.000000              0.932099  0.422145   \n",
       "229289  380053  0.353846        0.000000              0.956790  0.778547   \n",
       "229290   69958  0.000000        0.052704              0.981481  0.020761   \n",
       "229291  303090  0.000000        0.044611              0.981481  0.477509   \n",
       "\n",
       "        Female  Male  No  Yes  1-2 Year  < 1 Year  > 2 Years  0  1  \n",
       "0            0     1   1    0         1         0          0  0  1  \n",
       "1            0     1   0    1         1         0          0  1  0  \n",
       "2            0     1   1    0         1         0          0  0  1  \n",
       "3            1     0   0    1         0         1          0  1  0  \n",
       "4            0     1   1    0         0         1          0  0  1  \n",
       "...        ...   ...  ..  ...       ...       ...        ... .. ..  \n",
       "229287       0     1   1    0         1         0          0  0  1  \n",
       "229288       0     1   1    0         0         1          0  0  1  \n",
       "229289       0     1   0    1         0         0          1  1  0  \n",
       "229290       1     0   0    1         0         1          0  0  1  \n",
       "229291       0     1   0    1         0         1          0  1  0  \n",
       "\n",
       "[229292 rows x 14 columns]"
      ],
      "text/html": "<div>\n<style scoped>\n    .dataframe tbody tr th:only-of-type {\n        vertical-align: middle;\n    }\n\n    .dataframe tbody tr th {\n        vertical-align: top;\n    }\n\n    .dataframe thead th {\n        text-align: right;\n    }\n</style>\n<table border=\"1\" class=\"dataframe\">\n  <thead>\n    <tr style=\"text-align: right;\">\n      <th></th>\n      <th>id</th>\n      <th>Age</th>\n      <th>Annual_Premium</th>\n      <th>Policy_Sales_Channel</th>\n      <th>Vintage</th>\n      <th>Female</th>\n      <th>Male</th>\n      <th>No</th>\n      <th>Yes</th>\n      <th>1-2 Year</th>\n      <th>&lt; 1 Year</th>\n      <th>&gt; 2 Years</th>\n      <th>0</th>\n      <th>1</th>\n    </tr>\n  </thead>\n  <tbody>\n    <tr>\n      <th>0</th>\n      <td>213892</td>\n      <td>0.430769</td>\n      <td>0.041471</td>\n      <td>0.154321</td>\n      <td>0.262976</td>\n      <td>0</td>\n      <td>1</td>\n      <td>1</td>\n      <td>0</td>\n      <td>1</td>\n      <td>0</td>\n      <td>0</td>\n      <td>0</td>\n      <td>1</td>\n    </tr>\n    <tr>\n      <th>1</th>\n      <td>269011</td>\n      <td>0.584615</td>\n      <td>0.113315</td>\n      <td>0.154321</td>\n      <td>0.162630</td>\n      <td>0</td>\n      <td>1</td>\n      <td>0</td>\n      <td>1</td>\n      <td>1</td>\n      <td>0</td>\n      <td>0</td>\n      <td>1</td>\n      <td>0</td>\n    </tr>\n    <tr>\n      <th>2</th>\n      <td>31464</td>\n      <td>0.369231</td>\n      <td>0.050968</td>\n      <td>0.154321</td>\n      <td>0.955017</td>\n      <td>0</td>\n      <td>1</td>\n      <td>1</td>\n      <td>0</td>\n      <td>1</td>\n      <td>0</td>\n      <td>0</td>\n      <td>0</td>\n      <td>1</td>\n    </tr>\n    <tr>\n      <th>3</th>\n      <td>86379</td>\n      <td>0.030769</td>\n      <td>0.060292</td>\n      <td>0.932099</td>\n      <td>0.588235</td>\n      <td>1</td>\n      <td>0</td>\n      <td>0</td>\n      <td>1</td>\n      <td>0</td>\n      <td>1</td>\n      <td>0</td>\n      <td>1</td>\n      <td>0</td>\n    </tr>\n    <tr>\n      <th>4</th>\n      <td>456843</td>\n      <td>0.061538</td>\n      <td>0.040033</td>\n      <td>0.932099</td>\n      <td>0.024221</td>\n      <td>0</td>\n      <td>1</td>\n      <td>1</td>\n      <td>0</td>\n      <td>0</td>\n      <td>1</td>\n      <td>0</td>\n      <td>0</td>\n      <td>1</td>\n    </tr>\n    <tr>\n      <th>...</th>\n      <td>...</td>\n      <td>...</td>\n      <td>...</td>\n      <td>...</td>\n      <td>...</td>\n      <td>...</td>\n      <td>...</td>\n      <td>...</td>\n      <td>...</td>\n      <td>...</td>\n      <td>...</td>\n      <td>...</td>\n      <td>...</td>\n      <td>...</td>\n    </tr>\n    <tr>\n      <th>229287</th>\n      <td>50272</td>\n      <td>0.800000</td>\n      <td>0.068001</td>\n      <td>0.765432</td>\n      <td>0.799308</td>\n      <td>0</td>\n      <td>1</td>\n      <td>1</td>\n      <td>0</td>\n      <td>1</td>\n      <td>0</td>\n      <td>0</td>\n      <td>0</td>\n      <td>1</td>\n    </tr>\n    <tr>\n      <th>229288</th>\n      <td>254780</td>\n      <td>0.015385</td>\n      <td>0.000000</td>\n      <td>0.932099</td>\n      <td>0.422145</td>\n      <td>0</td>\n      <td>1</td>\n      <td>1</td>\n      <td>0</td>\n      <td>0</td>\n      <td>1</td>\n      <td>0</td>\n      <td>0</td>\n      <td>1</td>\n    </tr>\n    <tr>\n      <th>229289</th>\n      <td>380053</td>\n      <td>0.353846</td>\n      <td>0.000000</td>\n      <td>0.956790</td>\n      <td>0.778547</td>\n      <td>0</td>\n      <td>1</td>\n      <td>0</td>\n      <td>1</td>\n      <td>0</td>\n      <td>0</td>\n      <td>1</td>\n      <td>1</td>\n      <td>0</td>\n    </tr>\n    <tr>\n      <th>229290</th>\n      <td>69958</td>\n      <td>0.000000</td>\n      <td>0.052704</td>\n      <td>0.981481</td>\n      <td>0.020761</td>\n      <td>1</td>\n      <td>0</td>\n      <td>0</td>\n      <td>1</td>\n      <td>0</td>\n      <td>1</td>\n      <td>0</td>\n      <td>0</td>\n      <td>1</td>\n    </tr>\n    <tr>\n      <th>229291</th>\n      <td>303090</td>\n      <td>0.000000</td>\n      <td>0.044611</td>\n      <td>0.981481</td>\n      <td>0.477509</td>\n      <td>0</td>\n      <td>1</td>\n      <td>0</td>\n      <td>1</td>\n      <td>0</td>\n      <td>1</td>\n      <td>0</td>\n      <td>1</td>\n      <td>0</td>\n    </tr>\n  </tbody>\n</table>\n<p>229292 rows × 14 columns</p>\n</div>"
     },
     "metadata": {},
     "execution_count": 23
    }
   ],
   "source": [
    "data_train"
   ]
  },
  {
   "cell_type": "code",
   "execution_count": 27,
   "metadata": {},
   "outputs": [
    {
     "output_type": "execute_result",
     "data": {
      "text/plain": [
       "0.9223412891938243"
      ]
     },
     "metadata": {},
     "execution_count": 27
    }
   ],
   "source": [
    "roc_auc_score(y_train, y_train_predicted_rf)"
   ]
  },
  {
   "cell_type": "code",
   "execution_count": 28,
   "metadata": {},
   "outputs": [
    {
     "output_type": "execute_result",
     "data": {
      "text/plain": [
       "0.9186629998354721"
      ]
     },
     "metadata": {},
     "execution_count": 28
    }
   ],
   "source": [
    "roc_auc_score(y_val, y_val_predicted_rf)"
   ]
  },
  {
   "cell_type": "code",
   "execution_count": 31,
   "metadata": {},
   "outputs": [],
   "source": [
    "def create_submission(id_col, y_pred):\n",
    "    submission = pd.DataFrame({\n",
    "        'id': id_col,\n",
    "        'Response': y_pred\n",
    "    })\n",
    "    return submission\n",
    "\n",
    "submission = create_submission(data_test.id, y_test_predicted)\n",
    "submission.to_csv(\"./submission.csv\", index=False)\n"
   ]
  },
  {
   "cell_type": "code",
   "execution_count": null,
   "metadata": {},
   "outputs": [],
   "source": []
  }
 ]
}